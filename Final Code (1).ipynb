{
 "cells": [
  {
   "cell_type": "code",
   "execution_count": null,
   "id": "06d81cd3",
   "metadata": {},
   "outputs": [],
   "source": [
    "%%capture\n",
    "!pip install selenium"
   ]
  },
  {
   "cell_type": "code",
   "execution_count": null,
   "id": "9efc4144",
   "metadata": {},
   "outputs": [],
   "source": [
    "%%capture\n",
    "!pip install webdriver-manager"
   ]
  },
  {
   "cell_type": "code",
   "execution_count": null,
   "id": "d7db709b",
   "metadata": {},
   "outputs": [],
   "source": [
    "# Importing All the Important Libraries \n",
    "import numpy as np\n",
    "import pandas as pd\n",
    "from time import sleep\n",
    "from selenium import webdriver\n",
    "from webdriver_manager.chrome import ChromeDriverManager\n",
    "from selenium.webdriver.common.by import By\n",
    "from selenium.webdriver.support.ui import WebDriverWait\n",
    "from selenium.webdriver.support import expected_conditions as EC\n",
    "from selenium.common.exceptions import TimeoutException"
   ]
  },
  {
   "cell_type": "code",
   "execution_count": null,
   "id": "d3a1e74f",
   "metadata": {},
   "outputs": [],
   "source": [
    "Dates=pd.read_excel(r\"./Dates.xlsx\")"
   ]
  },
  {
   "cell_type": "code",
   "execution_count": null,
   "id": "059da086",
   "metadata": {},
   "outputs": [],
   "source": [
    "# Cross Check Extracting Dates \n",
    "Dates['week']=np.where(Dates['Month'].isin([\"Jan\",\"May\"]),Dates['week']+1,Dates['week'])\n",
    "Dates.head(10)"
   ]
  },
  {
   "cell_type": "code",
   "execution_count": null,
   "id": "90227c96",
   "metadata": {},
   "outputs": [],
   "source": [
    "# Website which we will be using \n",
    "website='https://vegetablemarketprice.com/market/noida/today'"
   ]
  },
  {
   "cell_type": "code",
   "execution_count": null,
   "id": "09be3ed8",
   "metadata": {},
   "outputs": [],
   "source": [
    "# For getting into each Date\n",
    "Data_list=[]\n",
    "driver = webdriver.Chrome(options=webdriver.ChromeOptions() ) # opening the Browser\n",
    "sleep(1)\n",
    "driver.maximize_window() # Maximizing the windows\n",
    "driver.get(website)     # Loading the Website\n",
    "sleep(1)\n",
    "for index in Dates.index:\n",
    "    Desired_month= str(Dates['Month'][index]+ ' '+ str(Dates['year'][index]))\n",
    "    week_row=Dates['week'][index]\n",
    "    Day_cell=Dates['DayofWeek'][index]\n",
    "    driver.find_element(By.XPATH, \"/html/body/div[2]/div[2]/div[1]/div[2]/div[2]/div/div[1]\").click()  #Calendar dropdown\n",
    "    sleep(1)\n",
    "    while driver.find_element(By.XPATH,\"/html/body/div[4]/div[2]/div[1]/table/thead/tr[1]/th[2]\").text != Desired_month :\n",
    "        driver.find_element(By.XPATH,\"/html/body/div[4]/div[2]/div[1]/table/thead/tr[1]/th[1]\").click()\n",
    "        sleep(0.1)\n",
    "    driver.find_element(By.XPATH,f'/html/body/div[4]/div[2]/div[1]/table/tbody/tr[{week_row}]/td[{Day_cell}]').click() # Date Select \n",
    "    try:\n",
    "        myElem = WebDriverWait(driver, 10).until(EC.presence_of_element_located((By.ID, 'IdOfMyElement')))\n",
    "        print(\"Page is ready!\")\n",
    "    except TimeoutException:\n",
    "        print(\"Loading took too much time!\")\n",
    "    elements =driver.find_elements(By.CLASS_NAME,\"todayVetableTableRows\")\n",
    "    sleep(1)\n",
    "    for element in elements:\n",
    "        id=element.get_attribute('id')\n",
    "        Vegetable=driver.find_element(By.XPATH,'//*[@id=\"{}\"]/td[2]'.format(str(id)))\n",
    "        Wholesale=driver.find_element(By.XPATH,'//*[@id=\"{}\"]/td[3]'.format(str(id)))\n",
    "        Retail=   driver.find_element(By.XPATH,'//*[@id=\"{}\"]/td[4]'.format(str(id)))\n",
    "        Shopping= driver.find_element(By.XPATH,'//*[@id=\"{}\"]/td[5]'.format(str(id)))\n",
    "        Units=    driver.find_element(By.XPATH,'//*[@id=\"{}\"]/td[6]'.format(str(id)))\n",
    "        Date=     Dates['Date'][index]\n",
    "        Data_list.append({'Date': Date,\n",
    "            'Vegetable':Vegetable.text,\n",
    "              'Wholesale Price':Wholesale.text,\n",
    "              'Retail Price':Retail.text,\n",
    "              'Shopping Mall Price':Shopping.text,\n",
    "              'Units':Units.text})\n",
    "        sleep(0.01)\n",
    "print(\"Scrapping Done\")"
   ]
  },
  {
   "cell_type": "code",
   "execution_count": null,
   "id": "05b4850c",
   "metadata": {},
   "outputs": [],
   "source": [
    "df=pd.DataFrame(Data_list)"
   ]
  },
  {
   "cell_type": "code",
   "execution_count": null,
   "id": "7071c556",
   "metadata": {},
   "outputs": [],
   "source": [
    "# Checking How many Days Data We got \n",
    "df"
   ]
  },
  {
   "cell_type": "code",
   "execution_count": null,
   "id": "cf8cb061",
   "metadata": {},
   "outputs": [],
   "source": [
    "# Data Cleaning And Pre Processing and Converting it into Different \n",
    "df[\"Wholesale Price\"]=df[\"Wholesale Price\"].str.replace('₹','').astype(np.int64)\n",
    "df[\"Retail Price\"]=df[\"Retail Price\"].str.replace('₹','')\n",
    "df[\"Shopping Mall Price\"]=df[\"Shopping Mall Price\"].str.replace('₹','')\n",
    "df[\"Retail Price\"]=(df[\"Retail Price\"].str.split('-',expand=True)[1].astype(np.int64) +df[\"Retail Price\"].str.split('-',expand=True)[0].astype(np.int64) )//2\n",
    "df[\"Shopping Mall Price\"]=(df[\"Shopping Mall Price\"].str.split('-',expand=True)[1].astype(np.int64) +df[\"Shopping Mall Price\"].str.split('-',expand=True)[0].astype(np.int64) )//2"
   ]
  },
  {
   "cell_type": "code",
   "execution_count": null,
   "id": "c08993c1",
   "metadata": {},
   "outputs": [],
   "source": [
    "# Cross Checking did we get proper data or not \n",
    "df"
   ]
  },
  {
   "cell_type": "code",
   "execution_count": null,
   "id": "fb3a68c1",
   "metadata": {},
   "outputs": [],
   "source": [
    "# Change File Name Accoring to Choice\n",
    "df.to_csv('NoidaData1.csv')"
   ]
  },
  {
   "cell_type": "code",
   "execution_count": null,
   "id": "37655b2f",
   "metadata": {},
   "outputs": [],
   "source": [
    "\n"
   ]
  },
  {
   "cell_type": "code",
   "execution_count": null,
   "id": "50e472ca",
   "metadata": {},
   "outputs": [],
   "source": []
  }
 ],
 "metadata": {
  "kernelspec": {
   "display_name": "Python 3 (ipykernel)",
   "language": "python",
   "name": "python3"
  },
  "language_info": {
   "codemirror_mode": {
    "name": "ipython",
    "version": 3
   },
   "file_extension": ".py",
   "mimetype": "text/x-python",
   "name": "python",
   "nbconvert_exporter": "python",
   "pygments_lexer": "ipython3",
   "version": "3.9.13"
  }
 },
 "nbformat": 4,
 "nbformat_minor": 5
}
